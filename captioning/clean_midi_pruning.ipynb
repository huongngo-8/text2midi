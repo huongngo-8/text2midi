{
 "cells": [
  {
   "cell_type": "code",
   "execution_count": 19,
   "metadata": {},
   "outputs": [],
   "source": [
    "import os\n",
    "import re\n",
    "\n",
    "dataset_folder = '/Users/alan/Downloads/clean_midi_pruned'\n",
    "target_dataset_folder = '/Users/alan/Downloads/clean_midi_pruned2'"
   ]
  },
  {
   "cell_type": "code",
   "execution_count": 26,
   "metadata": {},
   "outputs": [],
   "source": [
    "def format_periods():\n",
    "    artist_list = os.listdir(dataset_folder)\n",
    "    for artist in artist_list:\n",
    "        if artist.startswith('.') or not os.path.isdir(f'{dataset_folder}/{artist}'):\n",
    "            continue\n",
    "\n",
    "        artist_path = f'{dataset_folder}/{artist}'\n",
    "\n",
    "        files = os.listdir(artist_path)\n",
    "\n",
    "        for file in files:\n",
    "            if file.endswith('.mid'):\n",
    "                new_file = ''.join(file.split('.')[:-1]) + '.mid'\n",
    "                os.rename(f'{artist_path}/{file}', f'{artist_path}/{new_file}')"
   ]
  },
  {
   "cell_type": "code",
   "execution_count": 27,
   "metadata": {},
   "outputs": [],
   "source": [
    "format_periods()"
   ]
  },
  {
   "cell_type": "code",
   "execution_count": 20,
   "metadata": {},
   "outputs": [],
   "source": [
    "def delete_uncaptioned_songs():\n",
    "    artist_list = os.listdir(dataset_folder)\n",
    "    for artist in artist_list:\n",
    "        if artist.startswith('.') or not os.path.isdir(f'{dataset_folder}/{artist}'):\n",
    "            continue\n",
    "\n",
    "        artist_path = f'{dataset_folder}/{artist}'\n",
    "\n",
    "        files = os.listdir(artist_path)\n",
    "\n",
    "        for file in files:\n",
    "            if file.endswith('.mid') and (''.join(file.split('.')[:-1]) + '.txt') not in files:\n",
    "                os.remove(f'{artist_path}/{file}')"
   ]
  },
  {
   "cell_type": "code",
   "execution_count": 21,
   "metadata": {},
   "outputs": [],
   "source": [
    "delete_uncaptioned_songs()"
   ]
  },
  {
   "cell_type": "code",
   "execution_count": 22,
   "metadata": {},
   "outputs": [],
   "source": [
    "def delete_empty_folders():\n",
    "    artist_list = os.listdir(dataset_folder)\n",
    "    for artist in artist_list:\n",
    "        if artist.startswith('.') or not os.path.isdir(f'{dataset_folder}/{artist}'):\n",
    "            continue\n",
    "\n",
    "        artist_path = f'{dataset_folder}/{artist}'\n",
    "        if len(os.listdir(artist_path)) == 0:\n",
    "            os.rmdir(artist_path)"
   ]
  },
  {
   "cell_type": "code",
   "execution_count": 23,
   "metadata": {},
   "outputs": [],
   "source": [
    "delete_empty_folders()"
   ]
  },
  {
   "cell_type": "code",
   "execution_count": 24,
   "metadata": {},
   "outputs": [],
   "source": [
    "def flatten():\n",
    "    artist_list = os.listdir(dataset_folder)\n",
    "    for artist in artist_list:\n",
    "        if artist.startswith('.') or not os.path.isdir(f'{dataset_folder}/{artist}'):\n",
    "            continue\n",
    "\n",
    "        artist_path = f'{dataset_folder}/{artist}'\n",
    "\n",
    "        song_names = set([''.join(f.split('.')[:-1]) for f in os.listdir(artist_path)])\n",
    "        for song_name in song_names:\n",
    "            midi = song_name + '.mid'\n",
    "            caption = song_name + '.txt'\n",
    "            artist_song_folder_name = '_'.join(artist.split(' ')) + '—' + '_'.join(song_name.split(' '))  # please note that '—' is an em dash, not a hyphen\n",
    "            os.mkdir(f'{target_dataset_folder}/{artist_song_folder_name}')\n",
    "\n",
    "            os.rename(f'{artist_path}/{midi}', f'{target_dataset_folder}/{artist_song_folder_name}/{artist_song_folder_name}.mid')\n",
    "            os.rename(f'{artist_path}/{caption}', f'{target_dataset_folder}/{artist_song_folder_name}/{artist_song_folder_name}.txt')"
   ]
  },
  {
   "cell_type": "code",
   "execution_count": 29,
   "metadata": {},
   "outputs": [
    {
     "ename": "FileNotFoundError",
     "evalue": "[Errno 2] No such file or directory: '/Users/alan/Downloads/clean_midi_pruned/Deftones/.mid' -> '/Users/alan/Downloads/clean_midi_pruned2/Deftones—/Deftones—.mid'",
     "output_type": "error",
     "traceback": [
      "\u001b[0;31m---------------------------------------------------------------------------\u001b[0m",
      "\u001b[0;31mFileNotFoundError\u001b[0m                         Traceback (most recent call last)",
      "Cell \u001b[0;32mIn[29], line 1\u001b[0m\n\u001b[0;32m----> 1\u001b[0m flatten()\n",
      "Cell \u001b[0;32mIn[24], line 16\u001b[0m, in \u001b[0;36mflatten\u001b[0;34m()\u001b[0m\n\u001b[1;32m     13\u001b[0m artist_song_folder_name \u001b[39m=\u001b[39m \u001b[39m'\u001b[39m\u001b[39m_\u001b[39m\u001b[39m'\u001b[39m\u001b[39m.\u001b[39mjoin(artist\u001b[39m.\u001b[39msplit(\u001b[39m'\u001b[39m\u001b[39m \u001b[39m\u001b[39m'\u001b[39m)) \u001b[39m+\u001b[39m \u001b[39m'\u001b[39m\u001b[39m—\u001b[39m\u001b[39m'\u001b[39m \u001b[39m+\u001b[39m \u001b[39m'\u001b[39m\u001b[39m_\u001b[39m\u001b[39m'\u001b[39m\u001b[39m.\u001b[39mjoin(song_name\u001b[39m.\u001b[39msplit(\u001b[39m'\u001b[39m\u001b[39m \u001b[39m\u001b[39m'\u001b[39m))  \u001b[39m# please note that '—' is an em dash, not a hyphen\u001b[39;00m\n\u001b[1;32m     14\u001b[0m os\u001b[39m.\u001b[39mmkdir(\u001b[39mf\u001b[39m\u001b[39m'\u001b[39m\u001b[39m{\u001b[39;00mtarget_dataset_folder\u001b[39m}\u001b[39;00m\u001b[39m/\u001b[39m\u001b[39m{\u001b[39;00martist_song_folder_name\u001b[39m}\u001b[39;00m\u001b[39m'\u001b[39m)\n\u001b[0;32m---> 16\u001b[0m os\u001b[39m.\u001b[39;49mrename(\u001b[39mf\u001b[39;49m\u001b[39m'\u001b[39;49m\u001b[39m{\u001b[39;49;00martist_path\u001b[39m}\u001b[39;49;00m\u001b[39m/\u001b[39;49m\u001b[39m{\u001b[39;49;00mmidi\u001b[39m}\u001b[39;49;00m\u001b[39m'\u001b[39;49m, \u001b[39mf\u001b[39;49m\u001b[39m'\u001b[39;49m\u001b[39m{\u001b[39;49;00mtarget_dataset_folder\u001b[39m}\u001b[39;49;00m\u001b[39m/\u001b[39;49m\u001b[39m{\u001b[39;49;00martist_song_folder_name\u001b[39m}\u001b[39;49;00m\u001b[39m/\u001b[39;49m\u001b[39m{\u001b[39;49;00martist_song_folder_name\u001b[39m}\u001b[39;49;00m\u001b[39m.mid\u001b[39;49m\u001b[39m'\u001b[39;49m)\n\u001b[1;32m     17\u001b[0m os\u001b[39m.\u001b[39mrename(\u001b[39mf\u001b[39m\u001b[39m'\u001b[39m\u001b[39m{\u001b[39;00martist_path\u001b[39m}\u001b[39;00m\u001b[39m/\u001b[39m\u001b[39m{\u001b[39;00mcaption\u001b[39m}\u001b[39;00m\u001b[39m'\u001b[39m, \u001b[39mf\u001b[39m\u001b[39m'\u001b[39m\u001b[39m{\u001b[39;00mtarget_dataset_folder\u001b[39m}\u001b[39;00m\u001b[39m/\u001b[39m\u001b[39m{\u001b[39;00martist_song_folder_name\u001b[39m}\u001b[39;00m\u001b[39m/\u001b[39m\u001b[39m{\u001b[39;00martist_song_folder_name\u001b[39m}\u001b[39;00m\u001b[39m.txt\u001b[39m\u001b[39m'\u001b[39m)\n",
      "\u001b[0;31mFileNotFoundError\u001b[0m: [Errno 2] No such file or directory: '/Users/alan/Downloads/clean_midi_pruned/Deftones/.mid' -> '/Users/alan/Downloads/clean_midi_pruned2/Deftones—/Deftones—.mid'"
     ]
    }
   ],
   "source": [
    "flatten()"
   ]
  },
  {
   "cell_type": "code",
   "execution_count": null,
   "metadata": {},
   "outputs": [],
   "source": []
  }
 ],
 "metadata": {
  "kernelspec": {
   "display_name": "Python 3",
   "language": "python",
   "name": "python3"
  },
  "language_info": {
   "codemirror_mode": {
    "name": "ipython",
    "version": 3
   },
   "file_extension": ".py",
   "mimetype": "text/x-python",
   "name": "python",
   "nbconvert_exporter": "python",
   "pygments_lexer": "ipython3",
   "version": "3.10.11"
  },
  "orig_nbformat": 4,
  "vscode": {
   "interpreter": {
    "hash": "bd385fe162c5ca0c84973b7dd5c518456272446b2b64e67c2a69f949ca7a1754"
   }
  }
 },
 "nbformat": 4,
 "nbformat_minor": 2
}
