{
 "cells": [
  {
   "cell_type": "code",
   "execution_count": 14,
   "metadata": {},
   "outputs": [
    {
     "name": "stdout",
     "output_type": "stream",
     "text": [
      "Requirement already satisfied: openai in /Users/huongngo/opt/anaconda3/envs/gehirn/lib/python3.11/site-packages (0.27.6)\n",
      "Requirement already satisfied: requests>=2.20 in /Users/huongngo/opt/anaconda3/envs/gehirn/lib/python3.11/site-packages (from openai) (2.28.2)\n",
      "Requirement already satisfied: tqdm in /Users/huongngo/opt/anaconda3/envs/gehirn/lib/python3.11/site-packages (from openai) (4.65.0)\n",
      "Requirement already satisfied: aiohttp in /Users/huongngo/opt/anaconda3/envs/gehirn/lib/python3.11/site-packages (from openai) (3.8.4)\n",
      "Requirement already satisfied: charset-normalizer<4,>=2 in /Users/huongngo/opt/anaconda3/envs/gehirn/lib/python3.11/site-packages (from requests>=2.20->openai) (2.1.1)\n",
      "Requirement already satisfied: idna<4,>=2.5 in /Users/huongngo/opt/anaconda3/envs/gehirn/lib/python3.11/site-packages (from requests>=2.20->openai) (3.4)\n",
      "Requirement already satisfied: urllib3<1.27,>=1.21.1 in /Users/huongngo/opt/anaconda3/envs/gehirn/lib/python3.11/site-packages (from requests>=2.20->openai) (1.26.15)\n",
      "Requirement already satisfied: certifi>=2017.4.17 in /Users/huongngo/opt/anaconda3/envs/gehirn/lib/python3.11/site-packages (from requests>=2.20->openai) (2022.12.7)\n",
      "Requirement already satisfied: attrs>=17.3.0 in /Users/huongngo/opt/anaconda3/envs/gehirn/lib/python3.11/site-packages (from aiohttp->openai) (22.2.0)\n",
      "Requirement already satisfied: multidict<7.0,>=4.5 in /Users/huongngo/opt/anaconda3/envs/gehirn/lib/python3.11/site-packages (from aiohttp->openai) (6.0.4)\n",
      "Requirement already satisfied: async-timeout<5.0,>=4.0.0a3 in /Users/huongngo/opt/anaconda3/envs/gehirn/lib/python3.11/site-packages (from aiohttp->openai) (4.0.2)\n",
      "Requirement already satisfied: yarl<2.0,>=1.0 in /Users/huongngo/opt/anaconda3/envs/gehirn/lib/python3.11/site-packages (from aiohttp->openai) (1.8.2)\n",
      "Requirement already satisfied: frozenlist>=1.1.1 in /Users/huongngo/opt/anaconda3/envs/gehirn/lib/python3.11/site-packages (from aiohttp->openai) (1.3.3)\n",
      "Requirement already satisfied: aiosignal>=1.1.2 in /Users/huongngo/opt/anaconda3/envs/gehirn/lib/python3.11/site-packages (from aiohttp->openai) (1.3.1)\n"
     ]
    }
   ],
   "source": [
    "!python3 -m pip install --upgrade openai"
   ]
  },
  {
   "cell_type": "code",
   "execution_count": 2,
   "metadata": {},
   "outputs": [],
   "source": [
    "import os\n",
    "import openai\n",
    "import pretty_midi\n",
    "import warnings\n",
    "import constants\n",
    "import time\n",
    "import re\n",
    "openai.api_key = constants.GPT_API_KEY"
   ]
  },
  {
   "cell_type": "code",
   "execution_count": 8,
   "metadata": {},
   "outputs": [],
   "source": [
    "dataset_folder = '/Users/alan/Downloads/clean_midi'"
   ]
  },
  {
   "cell_type": "code",
   "execution_count": 70,
   "metadata": {},
   "outputs": [],
   "source": [
    "def get_caption(song_name, artist_name, instruments, key, bpm):\n",
    "    prompt = f\"Write an informative musical description of a MIDI song cover of the song \\\"{song_name}\\\" by the artist \\\"{artist_name}\\\". \\\n",
    "               The instrumentation of this cover includes \\\"{instruments}\\\", the key signature is {key}, and the beats per minute (BPM) is {bpm}. \\\n",
    "               Be as specific as possible with musical features, such as genre, texture, timbre, form, rhythm, melody, harmony, and song structure. \\\n",
    "               Focus especially on any highly distinctive aspects of this song. \\\n",
    "               This description should be roughly 200 words long and should have no conclusion paragraph.\"\n",
    "\n",
    "    response = openai.ChatCompletion.create(\n",
    "        model=\"gpt-3.5-turbo\",\n",
    "        messages=[\n",
    "                {\"role\": \"user\", \"content\": prompt}\n",
    "            ]\n",
    "    )\n",
    "    caption = response['choices'][0]['message']['content'].lstrip('\\n')\n",
    "\n",
    "    return caption\n",
    "\n",
    "def get_metadata(midi_path):\n",
    "    with warnings.catch_warnings(record=True) as w:\n",
    "        # set all warnings to always be triggered\n",
    "        warnings.simplefilter(\"always\")\n",
    "        try:\n",
    "            midi = pretty_midi.PrettyMIDI(midi_path)\n",
    "\n",
    "            if len(w) == 0:  # no warnings means not track is not empty and no issues\n",
    "                assert len(midi.key_signature_changes) == 1\n",
    "                key = pretty_midi.key_number_to_key_name(midi.key_signature_changes[0].key_number)\n",
    "\n",
    "                assert len(midi.get_tempo_changes()) == 2\n",
    "                bpm = round(midi.get_tempo_changes()[1][0])\n",
    "\n",
    "                assert len(midi.instruments) != 0\n",
    "                instruments = ', '.join(list(set([instrument.name.strip() for instrument in midi.instruments])))\n",
    "\n",
    "                return (key, bpm, instruments)\n",
    "            else:\n",
    "                return -1\n",
    "            \n",
    "        except Exception as e:\n",
    "            return -1\n",
    "\n",
    "def contains_number_pattern(string):\n",
    "    pattern = r\"\\.\\d\\.\"\n",
    "    return bool(re.search(pattern, string))"
   ]
  },
  {
   "cell_type": "code",
   "execution_count": 73,
   "metadata": {},
   "outputs": [],
   "source": [
    "def caption_all_artist_folders(overwrite=False):\n",
    "    artist_list = os.listdir(dataset_folder)\n",
    "    for artist in artist_list:\n",
    "        if artist.startswith('.') or not os.path.isdir(f'{dataset_folder}/{artist}'):\n",
    "            continue\n",
    "        \n",
    "        caption_artist_folder(artist, overwrite)\n",
    "\n",
    "\n",
    "def caption_artist_folder(artist, overwrite=False):\n",
    "    '''\n",
    "    Takes in the name of a artist folder containing .mid files and generates rich text captions\n",
    "    for each song in the artist folder in .txt format\n",
    "\n",
    "            Parameters:\n",
    "                    artist (str): the artist whose songs to caption\n",
    "                    overwrite (bool): specify whether captioning should overwrite existing \n",
    "                                      .txt files with the same file name\n",
    "    '''\n",
    "    artist_path = f'{dataset_folder}/{artist}'\n",
    "\n",
    "    song_list = os.listdir(artist_path)\n",
    "    num_songs = len(song_list)\n",
    "\n",
    "    for i, song_filename in enumerate(song_list):\n",
    "        if song_filename.startswith('.') or contains_number_pattern(song_filename):\n",
    "            continue\n",
    "\n",
    "        song_name = ''.join(song_filename.split('.')[:-1])\n",
    "        caption_filename = song_name + '.txt'\n",
    "        \n",
    "        if not overwrite and os.path.isfile(f'{artist_path}/{caption_filename}'):\n",
    "            continue\n",
    "\n",
    "        song_path = f'{artist_path}/{song_filename}'\n",
    "        caption_path = f'{artist_path}/{caption_filename}'\n",
    "\n",
    "        metadata_result = get_metadata(song_path)\n",
    "        if metadata_result == -1:\n",
    "            continue\n",
    "        key, bpm, instruments = metadata_result\n",
    "\n",
    "        caption = get_caption(song_name, artist, key, bpm, instruments)\n",
    "        assert(len(caption) != 0)\n",
    "\n",
    "        with open(caption_path, 'w') as f:\n",
    "            f.write(caption)\n",
    "            \n",
    "        print(f\"{i + 1}/{num_songs} MIDIs completed in the folder \\\"{artist}\\\"\")\n",
    "\n",
    "        # time.sleep(12)\n",
    "\n",
    "    print(f\"Finished writing captions for \\\"{artist}\\\".\")"
   ]
  },
  {
   "cell_type": "code",
   "execution_count": 74,
   "metadata": {},
   "outputs": [
    {
     "name": "stdout",
     "output_type": "stream",
     "text": [
      "1/4 files completed in the folder \"Deftones\"\n",
      "3/4 files completed in the folder \"Deftones\"\n",
      "4/4 files completed in the folder \"Deftones\"\n",
      "Finished writing captions for Deftones.\n"
     ]
    }
   ],
   "source": [
    "#caption_all_artist_folders()\n",
    "caption_artist_folder('Deftones')"
   ]
  },
  {
   "cell_type": "code",
   "execution_count": null,
   "metadata": {},
   "outputs": [],
   "source": []
  }
 ],
 "metadata": {
  "kernelspec": {
   "display_name": "Python 3 (ipykernel)",
   "language": "python",
   "name": "python3"
  },
  "language_info": {
   "codemirror_mode": {
    "name": "ipython",
    "version": 3
   },
   "file_extension": ".py",
   "mimetype": "text/x-python",
   "name": "python",
   "nbconvert_exporter": "python",
   "pygments_lexer": "ipython3",
   "version": "3.10.11"
  }
 },
 "nbformat": 4,
 "nbformat_minor": 2
}
