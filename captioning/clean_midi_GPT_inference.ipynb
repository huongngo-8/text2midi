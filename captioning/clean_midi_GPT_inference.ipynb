{
 "cells": [
  {
   "cell_type": "code",
   "execution_count": 14,
   "metadata": {},
   "outputs": [
    {
     "name": "stdout",
     "output_type": "stream",
     "text": [
      "Requirement already satisfied: openai in /Users/huongngo/opt/anaconda3/envs/gehirn/lib/python3.11/site-packages (0.27.6)\n",
      "Requirement already satisfied: requests>=2.20 in /Users/huongngo/opt/anaconda3/envs/gehirn/lib/python3.11/site-packages (from openai) (2.28.2)\n",
      "Requirement already satisfied: tqdm in /Users/huongngo/opt/anaconda3/envs/gehirn/lib/python3.11/site-packages (from openai) (4.65.0)\n",
      "Requirement already satisfied: aiohttp in /Users/huongngo/opt/anaconda3/envs/gehirn/lib/python3.11/site-packages (from openai) (3.8.4)\n",
      "Requirement already satisfied: charset-normalizer<4,>=2 in /Users/huongngo/opt/anaconda3/envs/gehirn/lib/python3.11/site-packages (from requests>=2.20->openai) (2.1.1)\n",
      "Requirement already satisfied: idna<4,>=2.5 in /Users/huongngo/opt/anaconda3/envs/gehirn/lib/python3.11/site-packages (from requests>=2.20->openai) (3.4)\n",
      "Requirement already satisfied: urllib3<1.27,>=1.21.1 in /Users/huongngo/opt/anaconda3/envs/gehirn/lib/python3.11/site-packages (from requests>=2.20->openai) (1.26.15)\n",
      "Requirement already satisfied: certifi>=2017.4.17 in /Users/huongngo/opt/anaconda3/envs/gehirn/lib/python3.11/site-packages (from requests>=2.20->openai) (2022.12.7)\n",
      "Requirement already satisfied: attrs>=17.3.0 in /Users/huongngo/opt/anaconda3/envs/gehirn/lib/python3.11/site-packages (from aiohttp->openai) (22.2.0)\n",
      "Requirement already satisfied: multidict<7.0,>=4.5 in /Users/huongngo/opt/anaconda3/envs/gehirn/lib/python3.11/site-packages (from aiohttp->openai) (6.0.4)\n",
      "Requirement already satisfied: async-timeout<5.0,>=4.0.0a3 in /Users/huongngo/opt/anaconda3/envs/gehirn/lib/python3.11/site-packages (from aiohttp->openai) (4.0.2)\n",
      "Requirement already satisfied: yarl<2.0,>=1.0 in /Users/huongngo/opt/anaconda3/envs/gehirn/lib/python3.11/site-packages (from aiohttp->openai) (1.8.2)\n",
      "Requirement already satisfied: frozenlist>=1.1.1 in /Users/huongngo/opt/anaconda3/envs/gehirn/lib/python3.11/site-packages (from aiohttp->openai) (1.3.3)\n",
      "Requirement already satisfied: aiosignal>=1.1.2 in /Users/huongngo/opt/anaconda3/envs/gehirn/lib/python3.11/site-packages (from aiohttp->openai) (1.3.1)\n"
     ]
    }
   ],
   "source": [
    "!python3 -m pip install --upgrade openai"
   ]
  },
  {
   "cell_type": "code",
   "execution_count": 2,
   "metadata": {},
   "outputs": [],
   "source": [
    "import os\n",
    "import openai\n",
    "import pretty_midi\n",
    "import warnings\n",
    "import constants\n",
    "import time\n",
    "import re\n",
    "openai.api_key = constants.GPT_API_KEY"
   ]
  },
  {
   "cell_type": "code",
   "execution_count": 8,
   "metadata": {},
   "outputs": [],
   "source": [
    "dataset_folder = '/Users/alan/Downloads/clean_midi'"
   ]
  },
  {
   "cell_type": "code",
   "execution_count": 63,
   "metadata": {},
   "outputs": [],
   "source": [
    "def get_caption(song_name, artist_name, instruments, key, bpm):\n",
    "    prompt = f\"Write an informative musical description of a MIDI song cover of the song \\\"{song_name}\\\" by the artist \\\"{artist_name}\\\". \\\n",
    "               The instrumentation of this cover includes \\\"{instruments}\\\", the key signature is {key}, and the beats per minute (BPM) is {bpm}. \\\n",
    "               Be as specific as possible with musical features, such as genre, texture, timbre, form, rhythm, melody, harmony, and song structure. \\\n",
    "               Focus especially on any highly distinctive aspects of this song. \\\n",
    "               This description should be roughly 200 words long and should have no conclusion paragraph.\"\n",
    "\n",
    "    response = openai.ChatCompletion.create(\n",
    "        model=\"gpt-3.5-turbo\",\n",
    "        messages=[\n",
    "                {\"role\": \"user\", \"content\": prompt}\n",
    "            ]\n",
    "    )\n",
    "    caption = response['choices'][0]['message']['content'].lstrip('\\n')\n",
    "\n",
    "    return caption\n",
    "\n",
    "def get_metadata(midi_path):\n",
    "    with warnings.catch_warnings(record=True) as w:\n",
    "        # set all warnings to always be triggered\n",
    "        warnings.simplefilter(\"always\")\n",
    "        try:\n",
    "            midi = pretty_midi.PrettyMIDI(midi_path)\n",
    "\n",
    "            if len(w) == 0:  # no warnings means not track is not empty and no issues\n",
    "                assert len(midi.key_signature_changes) == 1\n",
    "                key = pretty_midi.key_number_to_key_name(midi.key_signature_changes[0].key_number)\n",
    "\n",
    "                assert len(midi.get_tempo_changes()) == 2\n",
    "                bpm = round(midi.get_tempo_changes()[1][0])\n",
    "\n",
    "                assert len(midi.instruments) != 0\n",
    "                instruments = ', '.join(list(set([instrument.name.strip() for instrument in midi.instruments])))\n",
    "                print(instruments)\n",
    "\n",
    "                return (key, bpm, instruments)\n",
    "            else:\n",
    "                print(f\"{midi_path} had warnings while loading, skipping\")\n",
    "                return -1\n",
    "            \n",
    "        except Exception as e:\n",
    "            print(e)\n",
    "            return -1\n",
    "\n",
    "def contains_number_pattern(string):\n",
    "    pattern = r\"\\.\\d\\.\"\n",
    "    return bool(re.search(pattern, string))"
   ]
  },
  {
   "cell_type": "code",
   "execution_count": 64,
   "metadata": {},
   "outputs": [],
   "source": [
    "def caption_all_artist_folders(overwrite=False):\n",
    "    artist_list = os.listdir(dataset_folder)\n",
    "    for artist in artist_list:\n",
    "        if artist.startswith('.') or not os.path.isdir(f'{dataset_folder}/{artist}'):\n",
    "            continue\n",
    "        \n",
    "        caption_artist_folder(artist, overwrite)\n",
    "\n",
    "\n",
    "def caption_artist_folder(artist, overwrite=False):\n",
    "    '''\n",
    "    Takes in the name of a artist folder containing .mid files and generates rich text captions\n",
    "    for each song in the artist folder in .txt format\n",
    "\n",
    "            Parameters:\n",
    "                    artist (str): the artist whose songs to caption\n",
    "                    overwrite (bool): specify whether captioning should overwrite existing \n",
    "                                      .txt files with the same file name\n",
    "    '''\n",
    "    artist_path = f'{dataset_folder}/{artist}'\n",
    "\n",
    "    song_list = os.listdir(artist_path)\n",
    "    num_songs = len(song_list)\n",
    "\n",
    "    for i, song_filename in enumerate(song_list):\n",
    "        if song_filename.startswith('.') or contains_number_pattern(song_filename):\n",
    "            continue\n",
    "\n",
    "        song_name = ''.join(song_filename.split('.')[:-1])\n",
    "        caption_filename = song_name + '_caption.txt'\n",
    "        \n",
    "        if not overwrite and os.path.isfile(f'{artist_path}/{caption_filename}'):\n",
    "            continue\n",
    "\n",
    "        song_path = f'{artist_path}/{song_filename}'\n",
    "        caption_path = f'{artist_path}/{caption_filename}'\n",
    "\n",
    "        metadata_result = get_metadata(song_path)\n",
    "        if metadata_result == -1:\n",
    "            continue\n",
    "        key, bpm, instruments = metadata_result\n",
    "\n",
    "        caption = get_caption(song_name, artist, key, bpm, instruments)\n",
    "        assert(len(caption) != 0)\n",
    "\n",
    "        with open(caption_path, 'w') as f:\n",
    "            f.write(caption)\n",
    "        print(caption)\n",
    "        print(f\"{i + 1}/{num_songs} files in the {artist} folder\")\n",
    "\n",
    "        # time.sleep(12)\n",
    "\n",
    "    print(f\"Finished writing captions for {artist}.\")"
   ]
  },
  {
   "cell_type": "code",
   "execution_count": 65,
   "metadata": {},
   "outputs": [
    {
     "name": "stdout",
     "output_type": "stream",
     "text": [
      "\n",
      "This MIDI song cover of \"Sing A Song (bonus track)\" by Earth, Wind & Fire is an upbeat disco-infused track that is sure to get listeners up and dancing. The instrumentation consists of electric guitar, bass, drums, synth, and a variety of horns. The key signature is in A Major, giving the track a bright and energetic feel throughout. The tempo is set at 122 BPM, adding to the lively and danceable rhythm.\n",
      "\n",
      "The texture of the cover is dense, with each instrument weaving together seamlessly to create a cohesive sound. The timbre of the synths and horns add a memorable funk and disco feel to the track. The song structure follows a traditional pop format, with a verse-chorus-verse-chorus-bridge-chorus structure.\n",
      "\n",
      "The rhythm is consistent and lively throughout, with the use of funky guitar strumming and syncopated bass lines. The melody is catchy and memorable, with the choir-like harmonies adding to the overall warmth and feel-good nature of the song. The use of horns and synths add a sense of grandeur and excitement to the cover.\n",
      "\n",
      "In conclusion, this MIDI song cover of \"Sing A Song (bonus track)\" by Earth, Wind & Fire is a fun and energetic track that captures the disco and funk elements of the original song. The texture, timbre, rhythm, and melody all work together to create a memorable and danceable track that is sure to get listeners moving.\n",
      "1/40 files in the Earth, Wind & Fire folder\n",
      "\n",
      "This MIDI cover of \"After The Love Has Gone\" by Earth, Wind & Fire showcases the song's essence with its smooth R&B and soulful elements. The texture is primarily a combination of electric piano and soft strings, providing a rich and melodic quality that sits gracefully amongst the accompanying MIDI percussion and bass. The timbre of each instrument is delicately layered to create a full-bodied sound that perfectly captures the original's essence. With an iconic key signature of F Major, and BPM of 61, the cover is slow-paced but maintains a steady, rhythmic feel throughout. \n",
      "\n",
      "The song structure is uniform and easy to follow, with a standard verse-chorus-bridge format. This layout heightens the emotional resonance of the track and accentuates the velvety-smooth lyrics. The melody of the cover encapsulates the original's soulful tone while also bringing new life to the track with thoughtfully placed harmonies and embellishments. The blending of major and minor chords creates an emotional richness that allows the song to be felt on a deeper level. \n",
      "\n",
      "In conclusion, this MIDI cover of \"After The Love Has Gone\" is a delicate yet powerful take that captures the emotional depth of the original song. The delicate layering technique used and emotive alterations in chords create a truly compelling and dynamic listening experience. This cover is genuinely a treat for any music lover!\n",
      "2/40 files in the Earth, Wind & Fire folder\n",
      "Guitar Muted, Melody, Synth Pad, Trumpet, Melody Dbl., Trombones, Bass, Drums, Elec Piano, Flute, Organ, Guitar, Strings, Brass Sec., Piano\n",
      "This MIDI song cover of \"Fantasy\" by Earth, Wind & Fire is a smooth and groovy rendition that is perfect for any relaxing occasion. The smooth jazz and funk genres are combined to create a layer of texture in this track, with the melody played by a muted guitar and a synth pad that elevate the track. The trumpet, trombone, and brass section contribute positively to the overall upbeat vibe of the song. The rhythm is consistent and steady, with the drums, bass, and electric piano working together in perfect unison. \n",
      "\n",
      "The melody is played by the flute and doubled up by a synth pad, resulting in a dreamy and relaxed feel that is perfect for unwinding after a long day. The one-of-a-kind timbre of the organ plays an essential role in the song's overall groove, as does the guitar solo, which stands out for its unique tonal quality. The song structure is relatively straightforward, with a consistent intro, verse, pre-chorus, chorus, bridge, and outro. The horn section and strings have a significant impact in the build-up to the chorus, making it a memorable part of the song. Overall, this MIDI song cover of \"Fantasy\" is a groovy, upbeat, and memorable tune that is perfect for everyone to enjoy and dance to.\n",
      "3/40 files in the Earth, Wind & Fire folder\n",
      "\n",
      "This MIDI cover of Earth, Wind & Fire's \"Let's Groove\" is a vibrant and energetic interpretation of the classic funk hit. The instrumentation is alive with the spirit of the original and includes a powerful bassline, funky guitar riffs, and lively horn section, all in the key of G Major. The song features a driving drumbeat with a BPM of 124 that will make you want to move and groove to the rhythm.\n",
      "\n",
      "The texture of the song is dense, with layers of instruments interlocking and complementing each other to create a full, dynamic sound. The timbre of each instrument is carefully chosen to match the funk genre and create a cohesive vibe. The form of the song is straightforward, following a classic verse-chorus structure.\n",
      "\n",
      "The melody of \"Let's Groove\" is highly distinctive, starting with the unmistakable \"ba-dee-ya\" intro and moving into a catchy chorus that will have you singing along. The harmony is also noteworthy, with the horns and guitars interweaving intricate lines that create a sense of movement and excitement.\n",
      "\n",
      "Overall, this MIDI cover of \"Let's Groove\" is a joyful celebration of funk music that will get you up and moving. Its high energy, vibrant instrumentation, memorable melody, and well-crafted harmony make it a standout cover that is sure to please fans of the original.\n",
      "4/40 files in the Earth, Wind & Fire folder\n",
      "\n",
      "\n",
      "\n"
     ]
    },
    {
     "ename": "RateLimitError",
     "evalue": "Rate limit reached for default-gpt-3.5-turbo in organization org-FUSASKehbGMkq5RmEwA1LPja on requests per min. Limit: 3 / min. Please try again in 20s. Contact us through our help center at help.openai.com if you continue to have issues. Please add a payment method to your account to increase your rate limit. Visit https://platform.openai.com/account/billing to add a payment method.",
     "output_type": "error",
     "traceback": [
      "\u001b[0;31m---------------------------------------------------------------------------\u001b[0m",
      "\u001b[0;31mRateLimitError\u001b[0m                            Traceback (most recent call last)",
      "Cell \u001b[0;32mIn[65], line 2\u001b[0m\n\u001b[1;32m      1\u001b[0m \u001b[39m#caption_all_artist_folders()\u001b[39;00m\n\u001b[0;32m----> 2\u001b[0m caption_artist_folder(\u001b[39m'\u001b[39;49m\u001b[39mEarth, Wind & Fire\u001b[39;49m\u001b[39m'\u001b[39;49m)\n",
      "Cell \u001b[0;32mIn[64], line 43\u001b[0m, in \u001b[0;36mcaption_artist_folder\u001b[0;34m(artist, overwrite)\u001b[0m\n\u001b[1;32m     40\u001b[0m     \u001b[39mcontinue\u001b[39;00m\n\u001b[1;32m     41\u001b[0m key, bpm, instruments \u001b[39m=\u001b[39m metadata_result\n\u001b[0;32m---> 43\u001b[0m caption \u001b[39m=\u001b[39m get_caption(song_name, artist, key, bpm, instruments)\n\u001b[1;32m     44\u001b[0m \u001b[39massert\u001b[39;00m(\u001b[39mlen\u001b[39m(caption) \u001b[39m!=\u001b[39m \u001b[39m0\u001b[39m)\n\u001b[1;32m     46\u001b[0m \u001b[39mwith\u001b[39;00m \u001b[39mopen\u001b[39m(caption_path, \u001b[39m'\u001b[39m\u001b[39mw\u001b[39m\u001b[39m'\u001b[39m) \u001b[39mas\u001b[39;00m f:\n",
      "Cell \u001b[0;32mIn[63], line 8\u001b[0m, in \u001b[0;36mget_caption\u001b[0;34m(song_name, artist_name, instruments, key, bpm)\u001b[0m\n\u001b[1;32m      1\u001b[0m \u001b[39mdef\u001b[39;00m \u001b[39mget_caption\u001b[39m(song_name, artist_name, instruments, key, bpm):\n\u001b[1;32m      2\u001b[0m     prompt \u001b[39m=\u001b[39m \u001b[39mf\u001b[39m\u001b[39m\"\u001b[39m\u001b[39mWrite an informative musical description of a MIDI song cover of the song \u001b[39m\u001b[39m\\\"\u001b[39;00m\u001b[39m{\u001b[39;00msong_name\u001b[39m}\u001b[39;00m\u001b[39m\\\"\u001b[39;00m\u001b[39m by the artist \u001b[39m\u001b[39m\\\"\u001b[39;00m\u001b[39m{\u001b[39;00martist_name\u001b[39m}\u001b[39;00m\u001b[39m\\\"\u001b[39;00m\u001b[39m. \u001b[39m\u001b[39m\\\u001b[39;00m\n\u001b[1;32m      3\u001b[0m \u001b[39m               The instrumentation of this cover includes \u001b[39m\u001b[39m\\\"\u001b[39;00m\u001b[39m{\u001b[39;00minstruments\u001b[39m}\u001b[39;00m\u001b[39m\\\"\u001b[39;00m\u001b[39m, the key signature is \u001b[39m\u001b[39m{\u001b[39;00mkey\u001b[39m}\u001b[39;00m\u001b[39m, and the beats per minute (BPM) is \u001b[39m\u001b[39m{\u001b[39;00mbpm\u001b[39m}\u001b[39;00m\u001b[39m. \u001b[39m\u001b[39m\\\u001b[39;00m\n\u001b[1;32m      4\u001b[0m \u001b[39m               Be as specific as possible with musical features, such as genre, texture, timbre, form, rhythm, melody, harmony, and song structure. \u001b[39m\u001b[39m\\\u001b[39;00m\n\u001b[1;32m      5\u001b[0m \u001b[39m               Focus especially on any highly distinctive aspects of this song. \u001b[39m\u001b[39m\\\u001b[39;00m\n\u001b[1;32m      6\u001b[0m \u001b[39m               This description should be roughly 200 words long and should have no conclusion paragraph.\u001b[39m\u001b[39m\"\u001b[39m\n\u001b[0;32m----> 8\u001b[0m     response \u001b[39m=\u001b[39m openai\u001b[39m.\u001b[39;49mChatCompletion\u001b[39m.\u001b[39;49mcreate(\n\u001b[1;32m      9\u001b[0m         model\u001b[39m=\u001b[39;49m\u001b[39m\"\u001b[39;49m\u001b[39mgpt-3.5-turbo\u001b[39;49m\u001b[39m\"\u001b[39;49m,\n\u001b[1;32m     10\u001b[0m         messages\u001b[39m=\u001b[39;49m[\n\u001b[1;32m     11\u001b[0m                 {\u001b[39m\"\u001b[39;49m\u001b[39mrole\u001b[39;49m\u001b[39m\"\u001b[39;49m: \u001b[39m\"\u001b[39;49m\u001b[39muser\u001b[39;49m\u001b[39m\"\u001b[39;49m, \u001b[39m\"\u001b[39;49m\u001b[39mcontent\u001b[39;49m\u001b[39m\"\u001b[39;49m: prompt}\n\u001b[1;32m     12\u001b[0m             ]\n\u001b[1;32m     13\u001b[0m     )\n\u001b[1;32m     14\u001b[0m     caption \u001b[39m=\u001b[39m response[\u001b[39m'\u001b[39m\u001b[39mchoices\u001b[39m\u001b[39m'\u001b[39m][\u001b[39m0\u001b[39m][\u001b[39m'\u001b[39m\u001b[39mmessage\u001b[39m\u001b[39m'\u001b[39m][\u001b[39m'\u001b[39m\u001b[39mcontent\u001b[39m\u001b[39m'\u001b[39m]\u001b[39m.\u001b[39mlstrip(\u001b[39m'\u001b[39m\u001b[39m\\n\u001b[39;00m\u001b[39m'\u001b[39m)\n\u001b[1;32m     16\u001b[0m     \u001b[39mreturn\u001b[39;00m caption\n",
      "File \u001b[0;32m/opt/homebrew/lib/python3.10/site-packages/openai/api_resources/chat_completion.py:25\u001b[0m, in \u001b[0;36mChatCompletion.create\u001b[0;34m(cls, *args, **kwargs)\u001b[0m\n\u001b[1;32m     23\u001b[0m \u001b[39mwhile\u001b[39;00m \u001b[39mTrue\u001b[39;00m:\n\u001b[1;32m     24\u001b[0m     \u001b[39mtry\u001b[39;00m:\n\u001b[0;32m---> 25\u001b[0m         \u001b[39mreturn\u001b[39;00m \u001b[39msuper\u001b[39;49m()\u001b[39m.\u001b[39;49mcreate(\u001b[39m*\u001b[39;49margs, \u001b[39m*\u001b[39;49m\u001b[39m*\u001b[39;49mkwargs)\n\u001b[1;32m     26\u001b[0m     \u001b[39mexcept\u001b[39;00m TryAgain \u001b[39mas\u001b[39;00m e:\n\u001b[1;32m     27\u001b[0m         \u001b[39mif\u001b[39;00m timeout \u001b[39mis\u001b[39;00m \u001b[39mnot\u001b[39;00m \u001b[39mNone\u001b[39;00m \u001b[39mand\u001b[39;00m time\u001b[39m.\u001b[39mtime() \u001b[39m>\u001b[39m start \u001b[39m+\u001b[39m timeout:\n",
      "File \u001b[0;32m/opt/homebrew/lib/python3.10/site-packages/openai/api_resources/abstract/engine_api_resource.py:153\u001b[0m, in \u001b[0;36mEngineAPIResource.create\u001b[0;34m(cls, api_key, api_base, api_type, request_id, api_version, organization, **params)\u001b[0m\n\u001b[1;32m    127\u001b[0m \u001b[39m@classmethod\u001b[39m\n\u001b[1;32m    128\u001b[0m \u001b[39mdef\u001b[39;00m \u001b[39mcreate\u001b[39m(\n\u001b[1;32m    129\u001b[0m     \u001b[39mcls\u001b[39m,\n\u001b[0;32m   (...)\u001b[0m\n\u001b[1;32m    136\u001b[0m     \u001b[39m*\u001b[39m\u001b[39m*\u001b[39mparams,\n\u001b[1;32m    137\u001b[0m ):\n\u001b[1;32m    138\u001b[0m     (\n\u001b[1;32m    139\u001b[0m         deployment_id,\n\u001b[1;32m    140\u001b[0m         engine,\n\u001b[0;32m   (...)\u001b[0m\n\u001b[1;32m    150\u001b[0m         api_key, api_base, api_type, api_version, organization, \u001b[39m*\u001b[39m\u001b[39m*\u001b[39mparams\n\u001b[1;32m    151\u001b[0m     )\n\u001b[0;32m--> 153\u001b[0m     response, _, api_key \u001b[39m=\u001b[39m requestor\u001b[39m.\u001b[39;49mrequest(\n\u001b[1;32m    154\u001b[0m         \u001b[39m\"\u001b[39;49m\u001b[39mpost\u001b[39;49m\u001b[39m\"\u001b[39;49m,\n\u001b[1;32m    155\u001b[0m         url,\n\u001b[1;32m    156\u001b[0m         params\u001b[39m=\u001b[39;49mparams,\n\u001b[1;32m    157\u001b[0m         headers\u001b[39m=\u001b[39;49mheaders,\n\u001b[1;32m    158\u001b[0m         stream\u001b[39m=\u001b[39;49mstream,\n\u001b[1;32m    159\u001b[0m         request_id\u001b[39m=\u001b[39;49mrequest_id,\n\u001b[1;32m    160\u001b[0m         request_timeout\u001b[39m=\u001b[39;49mrequest_timeout,\n\u001b[1;32m    161\u001b[0m     )\n\u001b[1;32m    163\u001b[0m     \u001b[39mif\u001b[39;00m stream:\n\u001b[1;32m    164\u001b[0m         \u001b[39m# must be an iterator\u001b[39;00m\n\u001b[1;32m    165\u001b[0m         \u001b[39massert\u001b[39;00m \u001b[39mnot\u001b[39;00m \u001b[39misinstance\u001b[39m(response, OpenAIResponse)\n",
      "File \u001b[0;32m/opt/homebrew/lib/python3.10/site-packages/openai/api_requestor.py:226\u001b[0m, in \u001b[0;36mAPIRequestor.request\u001b[0;34m(self, method, url, params, headers, files, stream, request_id, request_timeout)\u001b[0m\n\u001b[1;32m    205\u001b[0m \u001b[39mdef\u001b[39;00m \u001b[39mrequest\u001b[39m(\n\u001b[1;32m    206\u001b[0m     \u001b[39mself\u001b[39m,\n\u001b[1;32m    207\u001b[0m     method,\n\u001b[0;32m   (...)\u001b[0m\n\u001b[1;32m    214\u001b[0m     request_timeout: Optional[Union[\u001b[39mfloat\u001b[39m, Tuple[\u001b[39mfloat\u001b[39m, \u001b[39mfloat\u001b[39m]]] \u001b[39m=\u001b[39m \u001b[39mNone\u001b[39;00m,\n\u001b[1;32m    215\u001b[0m ) \u001b[39m-\u001b[39m\u001b[39m>\u001b[39m Tuple[Union[OpenAIResponse, Iterator[OpenAIResponse]], \u001b[39mbool\u001b[39m, \u001b[39mstr\u001b[39m]:\n\u001b[1;32m    216\u001b[0m     result \u001b[39m=\u001b[39m \u001b[39mself\u001b[39m\u001b[39m.\u001b[39mrequest_raw(\n\u001b[1;32m    217\u001b[0m         method\u001b[39m.\u001b[39mlower(),\n\u001b[1;32m    218\u001b[0m         url,\n\u001b[0;32m   (...)\u001b[0m\n\u001b[1;32m    224\u001b[0m         request_timeout\u001b[39m=\u001b[39mrequest_timeout,\n\u001b[1;32m    225\u001b[0m     )\n\u001b[0;32m--> 226\u001b[0m     resp, got_stream \u001b[39m=\u001b[39m \u001b[39mself\u001b[39;49m\u001b[39m.\u001b[39;49m_interpret_response(result, stream)\n\u001b[1;32m    227\u001b[0m     \u001b[39mreturn\u001b[39;00m resp, got_stream, \u001b[39mself\u001b[39m\u001b[39m.\u001b[39mapi_key\n",
      "File \u001b[0;32m/opt/homebrew/lib/python3.10/site-packages/openai/api_requestor.py:620\u001b[0m, in \u001b[0;36mAPIRequestor._interpret_response\u001b[0;34m(self, result, stream)\u001b[0m\n\u001b[1;32m    612\u001b[0m     \u001b[39mreturn\u001b[39;00m (\n\u001b[1;32m    613\u001b[0m         \u001b[39mself\u001b[39m\u001b[39m.\u001b[39m_interpret_response_line(\n\u001b[1;32m    614\u001b[0m             line, result\u001b[39m.\u001b[39mstatus_code, result\u001b[39m.\u001b[39mheaders, stream\u001b[39m=\u001b[39m\u001b[39mTrue\u001b[39;00m\n\u001b[1;32m    615\u001b[0m         )\n\u001b[1;32m    616\u001b[0m         \u001b[39mfor\u001b[39;00m line \u001b[39min\u001b[39;00m parse_stream(result\u001b[39m.\u001b[39miter_lines())\n\u001b[1;32m    617\u001b[0m     ), \u001b[39mTrue\u001b[39;00m\n\u001b[1;32m    618\u001b[0m \u001b[39melse\u001b[39;00m:\n\u001b[1;32m    619\u001b[0m     \u001b[39mreturn\u001b[39;00m (\n\u001b[0;32m--> 620\u001b[0m         \u001b[39mself\u001b[39;49m\u001b[39m.\u001b[39;49m_interpret_response_line(\n\u001b[1;32m    621\u001b[0m             result\u001b[39m.\u001b[39;49mcontent\u001b[39m.\u001b[39;49mdecode(\u001b[39m\"\u001b[39;49m\u001b[39mutf-8\u001b[39;49m\u001b[39m\"\u001b[39;49m),\n\u001b[1;32m    622\u001b[0m             result\u001b[39m.\u001b[39;49mstatus_code,\n\u001b[1;32m    623\u001b[0m             result\u001b[39m.\u001b[39;49mheaders,\n\u001b[1;32m    624\u001b[0m             stream\u001b[39m=\u001b[39;49m\u001b[39mFalse\u001b[39;49;00m,\n\u001b[1;32m    625\u001b[0m         ),\n\u001b[1;32m    626\u001b[0m         \u001b[39mFalse\u001b[39;00m,\n\u001b[1;32m    627\u001b[0m     )\n",
      "File \u001b[0;32m/opt/homebrew/lib/python3.10/site-packages/openai/api_requestor.py:683\u001b[0m, in \u001b[0;36mAPIRequestor._interpret_response_line\u001b[0;34m(self, rbody, rcode, rheaders, stream)\u001b[0m\n\u001b[1;32m    681\u001b[0m stream_error \u001b[39m=\u001b[39m stream \u001b[39mand\u001b[39;00m \u001b[39m\"\u001b[39m\u001b[39merror\u001b[39m\u001b[39m\"\u001b[39m \u001b[39min\u001b[39;00m resp\u001b[39m.\u001b[39mdata\n\u001b[1;32m    682\u001b[0m \u001b[39mif\u001b[39;00m stream_error \u001b[39mor\u001b[39;00m \u001b[39mnot\u001b[39;00m \u001b[39m200\u001b[39m \u001b[39m<\u001b[39m\u001b[39m=\u001b[39m rcode \u001b[39m<\u001b[39m \u001b[39m300\u001b[39m:\n\u001b[0;32m--> 683\u001b[0m     \u001b[39mraise\u001b[39;00m \u001b[39mself\u001b[39m\u001b[39m.\u001b[39mhandle_error_response(\n\u001b[1;32m    684\u001b[0m         rbody, rcode, resp\u001b[39m.\u001b[39mdata, rheaders, stream_error\u001b[39m=\u001b[39mstream_error\n\u001b[1;32m    685\u001b[0m     )\n\u001b[1;32m    686\u001b[0m \u001b[39mreturn\u001b[39;00m resp\n",
      "\u001b[0;31mRateLimitError\u001b[0m: Rate limit reached for default-gpt-3.5-turbo in organization org-FUSASKehbGMkq5RmEwA1LPja on requests per min. Limit: 3 / min. Please try again in 20s. Contact us through our help center at help.openai.com if you continue to have issues. Please add a payment method to your account to increase your rate limit. Visit https://platform.openai.com/account/billing to add a payment method."
     ]
    }
   ],
   "source": [
    "#caption_all_artist_folders()\n",
    "caption_artist_folder('Earth, Wind & Fire')"
   ]
  },
  {
   "cell_type": "code",
   "execution_count": null,
   "metadata": {},
   "outputs": [],
   "source": []
  }
 ],
 "metadata": {
  "kernelspec": {
   "display_name": "Python 3 (ipykernel)",
   "language": "python",
   "name": "python3"
  },
  "language_info": {
   "codemirror_mode": {
    "name": "ipython",
    "version": 3
   },
   "file_extension": ".py",
   "mimetype": "text/x-python",
   "name": "python",
   "nbconvert_exporter": "python",
   "pygments_lexer": "ipython3",
   "version": "3.10.11"
  }
 },
 "nbformat": 4,
 "nbformat_minor": 2
}
