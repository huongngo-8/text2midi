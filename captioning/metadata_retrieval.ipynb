{
 "cells": [
  {
   "cell_type": "code",
   "execution_count": 20,
   "metadata": {},
   "outputs": [],
   "source": [
    "# imports\n",
    "import pretty_midi\n",
    "import warnings"
   ]
  },
  {
   "attachments": {},
   "cell_type": "markdown",
   "metadata": {},
   "source": [
    "### Example of MIDI file with empty tracks"
   ]
  },
  {
   "cell_type": "code",
   "execution_count": 34,
   "metadata": {},
   "outputs": [
    {
     "name": "stderr",
     "output_type": "stream",
     "text": [
      "/Users/huongngo/opt/anaconda3/envs/gehirn/lib/python3.11/site-packages/pretty_midi/pretty_midi.py:97: RuntimeWarning: Tempo, Key or Time signature change events found on non-zero tracks.  This is not a valid type 0 or type 1 MIDI file.  Tempo, Key or Time Signature may be wrong.\n",
      "  warnings.warn(\n"
     ]
    }
   ],
   "source": [
    "black_or_white = pretty_midi.PrettyMIDI('/Users/huongngo/Desktop/RESEARCH/text-to-midi/captioning/examples/Black or White copy.mid')"
   ]
  },
  {
   "cell_type": "code",
   "execution_count": 48,
   "metadata": {},
   "outputs": [
    {
     "name": "stdout",
     "output_type": "stream",
     "text": [
      "[Note(start=18.873909, end=19.186408, pitch=71, velocity=110), Note(start=19.132529, end=19.471968, pitch=76, velocity=114)]\n",
      "[Note(start=2.068964, end=2.074352, pitch=36, velocity=111), Note(start=6.460125, end=6.465513, pitch=36, velocity=89)]\n",
      "[Note(start=2.068964, end=2.370688, pitch=28, velocity=116), Note(start=10.086200, end=10.355596, pitch=40, velocity=125)]\n",
      "[Note(start=35.167000, end=37.235964, pitch=66, velocity=70), Note(start=35.167000, end=37.235964, pitch=71, velocity=70)]\n",
      "[Note(start=2.613145, end=2.726291, pitch=69, velocity=116), Note(start=2.607757, end=2.737067, pitch=64, velocity=107)]\n",
      "[Note(start=93.103380, end=93.146483, pitch=40, velocity=91), Note(start=93.189587, end=93.324285, pitch=40, velocity=95)]\n",
      "[Note(start=46.842638, end=47.058155, pitch=40, velocity=95), Note(start=46.842638, end=47.074319, pitch=45, velocity=101)]\n",
      "[Note(start=103.458976, end=103.593674, pitch=68, velocity=87), Note(start=103.458976, end=103.604450, pitch=79, velocity=87)]\n",
      "[Note(start=48.098025, end=48.809231, pitch=69, velocity=98), Note(start=48.098025, end=48.825395, pitch=64, velocity=98)]\n",
      "[Note(start=84.827524, end=84.919119, pitch=40, velocity=110), Note(start=84.956834, end=85.048429, pitch=40, velocity=90)]\n"
     ]
    }
   ],
   "source": [
    "for instrument in black_or_white.instruments:\n",
    "    print(instrument.notes[:2])"
   ]
  },
  {
   "cell_type": "code",
   "execution_count": 37,
   "metadata": {},
   "outputs": [
    {
     "data": {
      "text/plain": [
       "[]"
      ]
     },
     "execution_count": 37,
     "metadata": {},
     "output_type": "execute_result"
    }
   ],
   "source": [
    "black_or_white.key_signature_changes"
   ]
  },
  {
   "cell_type": "code",
   "execution_count": 39,
   "metadata": {},
   "outputs": [
    {
     "data": {
      "text/plain": [
       "(array([0.]), array([116.00008507]))"
      ]
     },
     "execution_count": 39,
     "metadata": {},
     "output_type": "execute_result"
    }
   ],
   "source": [
    "black_or_white.get_tempo_changes()"
   ]
  },
  {
   "attachments": {},
   "cell_type": "markdown",
   "metadata": {},
   "source": [
    "A warning is returned stating that there is a tempo, key or time signature event on one of the tracks after the first one. Here, track is not referred to the MIDI file tracks, but the pretty_midi tracks. The first track always contains the metadata of the song (key signature, time signature etc.). It seems like there is an empty track when there is a tempo, key or time signature event on one of the tracks after the first one. \n",
    "\n",
    "The empty track can't be removed but we can flag and ignore that track. It can only be manually modified. "
   ]
  },
  {
   "attachments": {},
   "cell_type": "markdown",
   "metadata": {},
   "source": [
    "### Example of same MIDI file that has been modified to not have empty tracks"
   ]
  },
  {
   "cell_type": "code",
   "execution_count": 36,
   "metadata": {},
   "outputs": [],
   "source": [
    "black_or_white_m = pretty_midi.PrettyMIDI('/Users/huongngo/Desktop/RESEARCH/text-to-midi/captioning/examples/black_or_white_m.mid')"
   ]
  },
  {
   "cell_type": "code",
   "execution_count": 49,
   "metadata": {},
   "outputs": [
    {
     "name": "stdout",
     "output_type": "stream",
     "text": [
      "[Note(start=18.873909, end=19.186408, pitch=71, velocity=110), Note(start=19.132529, end=19.471968, pitch=76, velocity=114)]\n",
      "[Note(start=2.068964, end=2.074352, pitch=36, velocity=111), Note(start=6.460125, end=6.465513, pitch=36, velocity=89)]\n",
      "[Note(start=2.068964, end=2.370688, pitch=28, velocity=116), Note(start=10.086200, end=10.355596, pitch=40, velocity=125)]\n",
      "[Note(start=35.167000, end=37.235964, pitch=66, velocity=70), Note(start=35.167000, end=37.235964, pitch=71, velocity=70)]\n",
      "[Note(start=2.613145, end=2.726291, pitch=69, velocity=116), Note(start=2.607757, end=2.737067, pitch=64, velocity=107)]\n",
      "[Note(start=93.103380, end=93.146483, pitch=40, velocity=91), Note(start=93.189587, end=93.324285, pitch=40, velocity=95)]\n",
      "[Note(start=46.842638, end=47.058155, pitch=40, velocity=95), Note(start=46.842638, end=47.074319, pitch=45, velocity=101)]\n",
      "[Note(start=103.458976, end=103.593674, pitch=68, velocity=87), Note(start=103.458976, end=103.604450, pitch=79, velocity=87)]\n",
      "[Note(start=48.098025, end=48.809231, pitch=69, velocity=98), Note(start=48.098025, end=48.825395, pitch=64, velocity=98)]\n",
      "[Note(start=84.827524, end=84.919119, pitch=40, velocity=110), Note(start=84.956834, end=85.048429, pitch=40, velocity=90)]\n"
     ]
    }
   ],
   "source": [
    "for instrument in black_or_white.instruments:\n",
    "    print(instrument.notes[:2])"
   ]
  },
  {
   "cell_type": "code",
   "execution_count": 45,
   "metadata": {},
   "outputs": [
    {
     "data": {
      "text/plain": [
       "'C Major'"
      ]
     },
     "execution_count": 45,
     "metadata": {},
     "output_type": "execute_result"
    }
   ],
   "source": [
    "pretty_midi.key_number_to_key_name(black_or_white_m.key_signature_changes[0].key_number)"
   ]
  },
  {
   "cell_type": "code",
   "execution_count": 46,
   "metadata": {},
   "outputs": [
    {
     "data": {
      "text/plain": [
       "(array([0.]), array([116.00008507]))"
      ]
     },
     "execution_count": 46,
     "metadata": {},
     "output_type": "execute_result"
    }
   ],
   "source": [
    "black_or_white_m.get_tempo_changes()"
   ]
  }
 ],
 "metadata": {
  "kernelspec": {
   "display_name": "gehirn",
   "language": "python",
   "name": "python3"
  },
  "language_info": {
   "codemirror_mode": {
    "name": "ipython",
    "version": 3
   },
   "file_extension": ".py",
   "mimetype": "text/x-python",
   "name": "python",
   "nbconvert_exporter": "python",
   "pygments_lexer": "ipython3",
   "version": "3.11.3"
  },
  "orig_nbformat": 4
 },
 "nbformat": 4,
 "nbformat_minor": 2
}
