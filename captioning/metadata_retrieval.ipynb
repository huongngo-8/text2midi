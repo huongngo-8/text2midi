{
 "cells": [
  {
   "cell_type": "code",
   "execution_count": 42,
   "metadata": {},
   "outputs": [],
   "source": [
    "# imports\n",
    "import pretty_midi\n",
    "import warnings\n",
    "import os\n",
    "import sys\n",
    "import re"
   ]
  },
  {
   "cell_type": "code",
   "execution_count": 1,
   "metadata": {},
   "outputs": [],
   "source": [
    "temp = (2, 3, 52, 5, 35, 5, 3, 5)"
   ]
  },
  {
   "cell_type": "code",
   "execution_count": 2,
   "metadata": {},
   "outputs": [
    {
     "data": {
      "text/plain": [
       "['<s>',\n",
       " '<s>',\n",
       " '<s>',\n",
       " '<s>',\n",
       " '<s>',\n",
       " '<s>',\n",
       " '<s>',\n",
       " '<s>',\n",
       " '<0-2>',\n",
       " '<1-3>',\n",
       " '<2-52>',\n",
       " '<3-5>',\n",
       " '<4-35>',\n",
       " '<5-5>',\n",
       " '<6-3>',\n",
       " '<7-5>']"
      ]
     },
     "execution_count": 2,
     "metadata": {},
     "output_type": "execute_result"
    }
   ],
   "source": [
    "['<s>'] * 8 + ['<{}-{}>'.format(j, k) for j, k in enumerate(temp)]"
   ]
  },
  {
   "attachments": {},
   "cell_type": "markdown",
   "metadata": {},
   "source": [
    "### Example of MIDI file with empty tracks"
   ]
  },
  {
   "cell_type": "code",
   "execution_count": 3,
   "metadata": {},
   "outputs": [
    {
     "name": "stderr",
     "output_type": "stream",
     "text": [
      "/Users/huongngo/opt/anaconda3/envs/gehirn/lib/python3.11/site-packages/pretty_midi/pretty_midi.py:97: RuntimeWarning: Tempo, Key or Time signature change events found on non-zero tracks.  This is not a valid type 0 or type 1 MIDI file.  Tempo, Key or Time Signature may be wrong.\n",
      "  warnings.warn(\n"
     ]
    }
   ],
   "source": [
    "black_or_white = pretty_midi.PrettyMIDI('/Users/huongngo/Desktop/RESEARCH/text-to-midi/captioning/examples/Black or White copy.mid')"
   ]
  },
  {
   "cell_type": "code",
   "execution_count": 4,
   "metadata": {},
   "outputs": [
    {
     "name": "stdout",
     "output_type": "stream",
     "text": [
      "[Note(start=18.873909, end=19.186408, pitch=71, velocity=110), Note(start=19.132529, end=19.471968, pitch=76, velocity=114)]\n",
      "[Note(start=2.068964, end=2.074352, pitch=36, velocity=111), Note(start=6.460125, end=6.465513, pitch=36, velocity=89)]\n",
      "[Note(start=2.068964, end=2.370688, pitch=28, velocity=116), Note(start=10.086200, end=10.355596, pitch=40, velocity=125)]\n",
      "[Note(start=35.167000, end=37.235964, pitch=66, velocity=70), Note(start=35.167000, end=37.235964, pitch=71, velocity=70)]\n",
      "[Note(start=2.613145, end=2.726291, pitch=69, velocity=116), Note(start=2.607757, end=2.737067, pitch=64, velocity=107)]\n",
      "[Note(start=93.103380, end=93.146483, pitch=40, velocity=91), Note(start=93.189587, end=93.324285, pitch=40, velocity=95)]\n",
      "[Note(start=46.842638, end=47.058155, pitch=40, velocity=95), Note(start=46.842638, end=47.074319, pitch=45, velocity=101)]\n",
      "[Note(start=103.458976, end=103.593674, pitch=68, velocity=87), Note(start=103.458976, end=103.604450, pitch=79, velocity=87)]\n",
      "[Note(start=48.098025, end=48.809231, pitch=69, velocity=98), Note(start=48.098025, end=48.825395, pitch=64, velocity=98)]\n",
      "[Note(start=84.827524, end=84.919119, pitch=40, velocity=110), Note(start=84.956834, end=85.048429, pitch=40, velocity=90)]\n"
     ]
    }
   ],
   "source": [
    "for instrument in black_or_white.instruments:\n",
    "    print(instrument.notes[:2])"
   ]
  },
  {
   "cell_type": "code",
   "execution_count": 5,
   "metadata": {},
   "outputs": [
    {
     "data": {
      "text/plain": [
       "[]"
      ]
     },
     "execution_count": 5,
     "metadata": {},
     "output_type": "execute_result"
    }
   ],
   "source": [
    "black_or_white.key_signature_changes"
   ]
  },
  {
   "cell_type": "code",
   "execution_count": 6,
   "metadata": {},
   "outputs": [
    {
     "data": {
      "text/plain": [
       "(array([0.]), array([116.00008507]))"
      ]
     },
     "execution_count": 6,
     "metadata": {},
     "output_type": "execute_result"
    }
   ],
   "source": [
    "black_or_white.get_tempo_changes()"
   ]
  },
  {
   "attachments": {},
   "cell_type": "markdown",
   "metadata": {},
   "source": [
    "A warning is returned stating that there is a tempo, key or time signature event on one of the tracks after the first one. Here, track is not referred to the MIDI file tracks, but the pretty_midi tracks. The first track always contains the metadata of the song (key signature, time signature etc.). It seems like there is an empty track when there is a tempo, key or time signature event on one of the tracks after the first one. \n",
    "\n",
    "The empty track can't be removed but we can flag and ignore that track. It can only be manually modified. "
   ]
  },
  {
   "attachments": {},
   "cell_type": "markdown",
   "metadata": {},
   "source": [
    "### Example of same MIDI file that has been modified to not have empty tracks"
   ]
  },
  {
   "cell_type": "code",
   "execution_count": 7,
   "metadata": {},
   "outputs": [],
   "source": [
    "black_or_white_m = pretty_midi.PrettyMIDI('/Users/huongngo/Desktop/RESEARCH/text-to-midi/captioning/examples/black_or_white_m.mid')"
   ]
  },
  {
   "cell_type": "code",
   "execution_count": 8,
   "metadata": {},
   "outputs": [
    {
     "name": "stdout",
     "output_type": "stream",
     "text": [
      "[Note(start=18.873909, end=19.186408, pitch=71, velocity=110), Note(start=19.132529, end=19.471968, pitch=76, velocity=114)]\n",
      "[Note(start=2.068964, end=2.074352, pitch=36, velocity=111), Note(start=6.460125, end=6.465513, pitch=36, velocity=89)]\n",
      "[Note(start=2.068964, end=2.370688, pitch=28, velocity=116), Note(start=10.086200, end=10.355596, pitch=40, velocity=125)]\n",
      "[Note(start=35.167000, end=37.235964, pitch=66, velocity=70), Note(start=35.167000, end=37.235964, pitch=71, velocity=70)]\n",
      "[Note(start=2.613145, end=2.726291, pitch=69, velocity=116), Note(start=2.607757, end=2.737067, pitch=64, velocity=107)]\n",
      "[Note(start=93.103380, end=93.146483, pitch=40, velocity=91), Note(start=93.189587, end=93.324285, pitch=40, velocity=95)]\n",
      "[Note(start=46.842638, end=47.058155, pitch=40, velocity=95), Note(start=46.842638, end=47.074319, pitch=45, velocity=101)]\n",
      "[Note(start=103.458976, end=103.593674, pitch=68, velocity=87), Note(start=103.458976, end=103.604450, pitch=79, velocity=87)]\n",
      "[Note(start=48.098025, end=48.809231, pitch=69, velocity=98), Note(start=48.098025, end=48.825395, pitch=64, velocity=98)]\n",
      "[Note(start=84.827524, end=84.919119, pitch=40, velocity=110), Note(start=84.956834, end=85.048429, pitch=40, velocity=90)]\n"
     ]
    }
   ],
   "source": [
    "for instrument in black_or_white.instruments:\n",
    "    print(instrument.notes[:2])"
   ]
  },
  {
   "cell_type": "code",
   "execution_count": 37,
   "metadata": {},
   "outputs": [
    {
     "data": {
      "text/plain": [
       "[KeySignature(key_number=0, time=0.0)]"
      ]
     },
     "execution_count": 37,
     "metadata": {},
     "output_type": "execute_result"
    }
   ],
   "source": [
    "black_or_white_m.key_signature_changes"
   ]
  },
  {
   "cell_type": "code",
   "execution_count": 9,
   "metadata": {},
   "outputs": [
    {
     "data": {
      "text/plain": [
       "'C Major'"
      ]
     },
     "execution_count": 9,
     "metadata": {},
     "output_type": "execute_result"
    }
   ],
   "source": [
    "pretty_midi.key_number_to_key_name(black_or_white_m.key_signature_changes[0].key_number)"
   ]
  },
  {
   "cell_type": "code",
   "execution_count": 40,
   "metadata": {},
   "outputs": [
    {
     "data": {
      "text/plain": [
       "(array([0.]), array([116.00008507]))"
      ]
     },
     "execution_count": 40,
     "metadata": {},
     "output_type": "execute_result"
    }
   ],
   "source": [
    "black_or_white_m.get_tempo_changes()"
   ]
  },
  {
   "cell_type": "code",
   "execution_count": 36,
   "metadata": {},
   "outputs": [
    {
     "data": {
      "text/plain": [
       "116.00008506672903"
      ]
     },
     "execution_count": 36,
     "metadata": {},
     "output_type": "execute_result"
    }
   ],
   "source": [
    "black_or_white_m.get_tempo_changes()[1][0]"
   ]
  },
  {
   "attachments": {},
   "cell_type": "markdown",
   "metadata": {},
   "source": [
    "### Checking the % of MIDI files with empty tracks"
   ]
  },
  {
   "cell_type": "code",
   "execution_count": 11,
   "metadata": {},
   "outputs": [],
   "source": [
    "data_path = '/Users/huongngo/Desktop/RESEARCH/clean_midi'"
   ]
  },
  {
   "cell_type": "code",
   "execution_count": 43,
   "metadata": {},
   "outputs": [],
   "source": [
    "def contains_number_pattern(string):\n",
    "    pattern = r\"\\.\\d\\.\"\n",
    "    return bool(re.search(pattern, string))"
   ]
  },
  {
   "cell_type": "code",
   "execution_count": 44,
   "metadata": {},
   "outputs": [
    {
     "name": "stdout",
     "output_type": "stream",
     "text": [
      "10309\n"
     ]
    }
   ],
   "source": [
    "# getting number of valid files\n",
    "midi_key_tempo = {} # holding the key and tempo of the midi files\n",
    "total_files = 0\n",
    "for root, dirs, files in os.walk(data_path, topdown = False):\n",
    "    for f in files:\n",
    "        if f == 'out.txt' or f == '.DS_Store' or f == 'err.txt': # ignoring misc files\n",
    "            continue\n",
    "        # if len(f.split('.')) == 3 and 'feat' not in f: # to not process multiple copies of the file (ignoring files that have feat. because should still consider those)\n",
    "        #     continue\n",
    "        # if len(f.split('.')) > 3: # if there's multiple versions of songs with feat. (the split will result in list > 3)\n",
    "        #     continue\n",
    "        if contains_number_pattern(f):\n",
    "            continue\n",
    "        midi_key_tempo[f] = (0, 0) # (key, tempo)\n",
    "        total_files += 1\n",
    "print(total_files)"
   ]
  },
  {
   "cell_type": "code",
   "execution_count": null,
   "metadata": {},
   "outputs": [],
   "source": [
    "empty_track_files = []\n",
    "corrupted_files = []\n",
    "other_files = []\n",
    "files_processed = 0\n",
    "for root, dirs, files in os.walk(data_path, topdown = False):\n",
    "    for f in files:\n",
    "        if f == 'out.txt' or f == '.DS_Store' or f == 'err.txt': # ignoring misc files\n",
    "            continue\n",
    "        if len(f.split('.')) == 3 and 'feat' not in f: # to not process multiple copies of the file (ignoring files that have feat. because should still consider those)\n",
    "            continue\n",
    "        if len(f.split('.')) > 3: # if there's multiple versions of songs with feat. (the split will result in list > 3)\n",
    "            continue\n",
    "        midi_path = os.path.join(root, f) # path to midi file\n",
    "        with warnings.catch_warnings(record=True) as w: # catching warnings\n",
    "            # cause all warnings to always be triggered\n",
    "            warnings.simplefilter(\"always\")\n",
    "            try:\n",
    "                # trigger a warning\n",
    "                midi = pretty_midi.PrettyMIDI(midi_path)\n",
    "                # Verify some things\n",
    "                if len(w) == 0: # no warnings -> Not empty track and no issues\n",
    "                    assert len(midi.key_signature_changes) == 1\n",
    "                    key = pretty_midi.key_number_to_key_name(midi.key_signature_changes[0].key_number)\n",
    "                    assert len(midi.get_tempo_changes()) == 2\n",
    "                    tempo = midi.get_tempo_changes()[1][0]\n",
    "                    midi_key_tempo[f] = (key, tempo) # inserting key and tempo\n",
    "                elif len(w) == 1: # Runtime Warning detected -> Empty track\n",
    "                    warning = w[0]\n",
    "                    assert issubclass(warning.category, RuntimeWarning)\n",
    "                    print('')\n",
    "                    print(f'Warning detected for file: {midi_path}')\n",
    "                    print(f'Warning: {warning.message}')\n",
    "                    empty_track_files.append(midi_path)\n",
    "                    print(f'Percentage of MIDI files w/ empty tracks: {len(empty_track_files) * 100 / total_files:.2f}%')\n",
    "                    print('')\n",
    "                elif len(w) > 0: # More than one warning -> Not sure what is issue, delegate to other_files for now\n",
    "                    print('')\n",
    "                    print(f'Warning detected for file: {midi_path}')\n",
    "                    print(f'Warning: {warning.message}')\n",
    "                    other_files.append(midi_path)\n",
    "                    print('')\n",
    "            except Exception as e: # catching the error\n",
    "                print('')\n",
    "                print(f'An exception of type {type(e).__name__} detected for file: {midi_path}')\n",
    "                corrupted_files.append(midi_path)\n",
    "                print(f'Percentage of MIDI files that have error: {len(corrupted_files) * 100 / total_files:.2f}%')\n",
    "                print('')\n",
    "        files_processed += 1\n",
    "        print(f'Progress: {files_processed * 100 / total_files:.2f}%')"
   ]
  },
  {
   "cell_type": "code",
   "execution_count": 29,
   "metadata": {},
   "outputs": [
    {
     "data": {
      "text/plain": [
       "['/Users/huongngo/Desktop/RESEARCH/clean_midi/The Corrs/Runaway.mid',\n",
       " '/Users/huongngo/Desktop/RESEARCH/clean_midi/Cocciante/Io canto.mid',\n",
       " '/Users/huongngo/Desktop/RESEARCH/clean_midi/Cocciante/Parole sante, zia Lucia.mid',\n",
       " '/Users/huongngo/Desktop/RESEARCH/clean_midi/Amos, Tori/Raspberry Swirl.mid',\n",
       " '/Users/huongngo/Desktop/RESEARCH/clean_midi/Amos, Tori/Concertina.mid']"
      ]
     },
     "execution_count": 29,
     "metadata": {},
     "output_type": "execute_result"
    }
   ],
   "source": [
    "empty_track_files[:5]"
   ]
  },
  {
   "cell_type": "code",
   "execution_count": 33,
   "metadata": {},
   "outputs": [
    {
     "data": {
      "text/plain": [
       "7.778317938745746"
      ]
     },
     "execution_count": 33,
     "metadata": {},
     "output_type": "execute_result"
    }
   ],
   "source": [
    "# percentage of empty track files\n",
    "len(empty_track_files) * 100 / total_files"
   ]
  },
  {
   "cell_type": "code",
   "execution_count": 30,
   "metadata": {},
   "outputs": [
    {
     "data": {
      "text/plain": [
       "['/Users/huongngo/Desktop/RESEARCH/clean_midi/Cocciante/Ammassati e distanti.mid',\n",
       " '/Users/huongngo/Desktop/RESEARCH/clean_midi/Amos, Tori/The Wrong Band.mid',\n",
       " '/Users/huongngo/Desktop/RESEARCH/clean_midi/Metallica/(Anesthesia)-Pulling Teeth.mid',\n",
       " '/Users/huongngo/Desktop/RESEARCH/clean_midi/The Cranberries/Animal Instinct.mid',\n",
       " '/Users/huongngo/Desktop/RESEARCH/clean_midi/Bee Gees/Too Much Heaven.mid']"
      ]
     },
     "execution_count": 30,
     "metadata": {},
     "output_type": "execute_result"
    }
   ],
   "source": [
    "corrupted_files[:5]"
   ]
  },
  {
   "cell_type": "code",
   "execution_count": 34,
   "metadata": {},
   "outputs": [
    {
     "data": {
      "text/plain": [
       "1.4681575109382596"
      ]
     },
     "execution_count": 34,
     "metadata": {},
     "output_type": "execute_result"
    }
   ],
   "source": [
    "# percentage of corrupted files\n",
    "len(corrupted_files) * 100 / total_files"
   ]
  },
  {
   "cell_type": "code",
   "execution_count": 31,
   "metadata": {},
   "outputs": [
    {
     "data": {
      "text/plain": [
       "[]"
      ]
     },
     "execution_count": 31,
     "metadata": {},
     "output_type": "execute_result"
    }
   ],
   "source": [
    "other_files"
   ]
  },
  {
   "cell_type": "code",
   "execution_count": null,
   "metadata": {},
   "outputs": [],
   "source": []
  }
 ],
 "metadata": {
  "kernelspec": {
   "display_name": "gehirn",
   "language": "python",
   "name": "python3"
  },
  "language_info": {
   "codemirror_mode": {
    "name": "ipython",
    "version": 3
   },
   "file_extension": ".py",
   "mimetype": "text/x-python",
   "name": "python",
   "nbconvert_exporter": "python",
   "pygments_lexer": "ipython3",
   "version": "3.11.3"
  },
  "orig_nbformat": 4
 },
 "nbformat": 4,
 "nbformat_minor": 2
}
